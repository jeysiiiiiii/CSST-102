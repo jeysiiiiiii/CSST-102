{
  "nbformat": 4,
  "nbformat_minor": 0,
  "metadata": {
    "colab": {
      "provenance": []
    },
    "kernelspec": {
      "name": "python3",
      "display_name": "Python 3"
    },
    "language_info": {
      "name": "python"
    }
  },
  "cells": [
    {
      "cell_type": "markdown",
      "source": [
        "## **Exercise 1** - Linear Regression Implementation\n",
        "\n",
        "---\n",
        "**Objective:**\n",
        "\n",
        "To apply the concepts of linear regression learned in lectures by implementing a simple linear regression\n",
        "model from scratch in Python.\n",
        "\n",
        "**Task Overview:**\n",
        "\n",
        "You are provided with a dataset containing information about house prices in a particular city. The\n",
        "dataset includes features such as the size of the house (in square feet), the number of bedrooms, and\n",
        "the age of the house. Your task is to predict the price of a house based on these features using a linear\n",
        "regression model.\n",
        "Steps:"
      ],
      "metadata": {
        "id": "ZN1M-mlJ4c2P"
      }
    },
    {
      "cell_type": "markdown",
      "source": [
        "**Importing Libraries**"
      ],
      "metadata": {
        "id": "DWGFS0NED6KZ"
      }
    },
    {
      "cell_type": "code",
      "source": [
        "import pandas as pd\n",
        "import numpy as np\n",
        "import matplotlib.pyplot as plt\n",
        "from sklearn.preprocessing import StandardScaler\n",
        "from sklearn.model_selection import train_test_split"
      ],
      "metadata": {
        "id": "NrLjSbTt4t7M"
      },
      "execution_count": null,
      "outputs": []
    },
    {
      "cell_type": "markdown",
      "source": [
        "1. **Data Preprocessing**"
      ],
      "metadata": {
        "id": "7dC1pSlu43Pu"
      }
    },
    {
      "cell_type": "code",
      "source": [
        "data = pd.read_csv('datasets_house_prices.csv')\n",
        "print(data.head)"
      ],
      "metadata": {
        "colab": {
          "base_uri": "https://localhost:8080/"
        },
        "id": "isvVQaYy5W1a",
        "outputId": "1008fe85-acf5-4bc9-8003-1c294fbcf9fd"
      },
      "execution_count": null,
      "outputs": [
        {
          "output_type": "stream",
          "name": "stdout",
          "text": [
            "<bound method NDFrame.head of      Size (sqft)  Bedrooms  Age  Proximity to Downtown (miles)         Price\n",
            "0           3974         1   97                       2.032719  1.162771e+06\n",
            "1           1660         5   88                      23.695207  4.900021e+05\n",
            "2           2094         4   49                       6.440232  6.400737e+05\n",
            "3           1930         2   28                       8.129315  5.637881e+05\n",
            "4           1895         1   56                       5.358837  5.651289e+05\n",
            "..           ...       ...  ...                            ...           ...\n",
            "995         3653         4   37                      28.566985  1.085631e+06\n",
            "996         3586         5   59                       9.270078  1.081685e+06\n",
            "997         2706         2   58                       3.215976  8.059956e+05\n",
            "998         3886         3    9                      18.171815  1.165188e+06\n",
            "999         2015         3   98                      18.897639  5.556799e+05\n",
            "\n",
            "[1000 rows x 5 columns]>\n"
          ]
        }
      ]
    },
    {
      "cell_type": "markdown",
      "source": [
        "*   Check for Missing Values\n",
        "\n"
      ],
      "metadata": {
        "id": "TDIa3qXu5oUT"
      }
    },
    {
      "cell_type": "code",
      "source": [
        "print(data.isnull().sum())"
      ],
      "metadata": {
        "colab": {
          "base_uri": "https://localhost:8080/"
        },
        "id": "hBQvUemQ6Cl9",
        "outputId": "398ced89-62fc-450b-e7c4-c73236235286"
      },
      "execution_count": null,
      "outputs": [
        {
          "output_type": "stream",
          "name": "stdout",
          "text": [
            "Size (sqft)                      0\n",
            "Bedrooms                         0\n",
            "Age                              0\n",
            "Proximity to Downtown (miles)    0\n",
            "Price                            0\n",
            "dtype: int64\n"
          ]
        }
      ]
    },
    {
      "cell_type": "markdown",
      "source": [
        "*   Normalizing the Features\n",
        "\n"
      ],
      "metadata": {
        "id": "_aEM3o0w6ONL"
      }
    },
    {
      "cell_type": "code",
      "source": [
        "scaler = StandardScaler()\n",
        "X = scaler.fit_transform(data[['Size (sqft)', 'Bedrooms', 'Age']])\n",
        "y = data['Price']"
      ],
      "metadata": {
        "id": "9q_oTWoy8d9R"
      },
      "execution_count": null,
      "outputs": []
    },
    {
      "cell_type": "markdown",
      "source": [
        "2. **Model Implementation**"
      ],
      "metadata": {
        "id": "s3gmq1DP845M"
      }
    },
    {
      "cell_type": "code",
      "source": [
        "def linear_regression(X, y):\n",
        "    X = np.c_[np.ones(len(X)), X]\n",
        "    theta = np.linalg.pinv(X.T @ X) @ X.T @ y\n",
        "    return theta[0], theta[1:]\n",
        "\n",
        "def predict(X, theta0, theta):\n",
        "    return theta0 + X @ theta"
      ],
      "metadata": {
        "id": "FENGr23d-zeB"
      },
      "execution_count": null,
      "outputs": []
    },
    {
      "cell_type": "markdown",
      "source": [
        "3. **Model Training**\n"
      ],
      "metadata": {
        "id": "nUm1NmOLCE-R"
      }
    },
    {
      "cell_type": "markdown",
      "source": [
        "*   Split the Dataset\n",
        "\n",
        "\n"
      ],
      "metadata": {
        "id": "NASiSAqQCbq0"
      }
    },
    {
      "cell_type": "markdown",
      "source": [
        "*   Training the Model"
      ],
      "metadata": {
        "id": "5NbuD62eCkUI"
      }
    },
    {
      "cell_type": "code",
      "source": [
        "X_train, X_test, y_train, y_test = train_test_split(X, y, test_size=0.2, random_state=42)"
      ],
      "metadata": {
        "id": "03ZIuGeQCMZI"
      },
      "execution_count": null,
      "outputs": []
    },
    {
      "cell_type": "code",
      "source": [
        "theta0, theta = linear_regression(X_train, y_train)"
      ],
      "metadata": {
        "id": "nJdwK6iPCqW-"
      },
      "execution_count": null,
      "outputs": []
    },
    {
      "cell_type": "markdown",
      "source": [
        "*   Calculating MSE\n"
      ],
      "metadata": {
        "id": "jGJ_L_tNCr-d"
      }
    },
    {
      "cell_type": "code",
      "source": [
        "y_train_pred = predict(X_train, theta0, theta)\n",
        "mse_train = np.mean((y_train - y_train_pred) ** 2)\n",
        "print(f'Training MSE: {mse_train:.2f}')"
      ],
      "metadata": {
        "colab": {
          "base_uri": "https://localhost:8080/"
        },
        "id": "3SlJRl3UC3GK",
        "outputId": "2f92b193-4524-4f55-ab24-901bd159e9a1"
      },
      "execution_count": null,
      "outputs": [
        {
          "output_type": "stream",
          "name": "stdout",
          "text": [
            "Training MSE: 170277648.52\n"
          ]
        }
      ]
    },
    {
      "cell_type": "markdown",
      "source": [
        "4. **Model Evaluation**"
      ],
      "metadata": {
        "id": "vLeYvY_VDl2U"
      }
    },
    {
      "cell_type": "markdown",
      "source": [
        "*   Model Testing"
      ],
      "metadata": {
        "id": "_4ByJKXbE0qJ"
      }
    },
    {
      "cell_type": "code",
      "source": [
        "y_test_pred = predict(X_test, theta0, theta)\n",
        "mse_test = np.mean((y_test - y_test_pred) ** 2)\n",
        "print(f'Testing MSE: {mse_test:.2f}')"
      ],
      "metadata": {
        "colab": {
          "base_uri": "https://localhost:8080/"
        },
        "id": "cWFPTnkmDuOZ",
        "outputId": "90e344dc-acd3-45e7-8e06-8770798ba4e3"
      },
      "execution_count": null,
      "outputs": [
        {
          "output_type": "stream",
          "name": "stdout",
          "text": [
            "Testing MSE: 167882080.37\n"
          ]
        }
      ]
    },
    {
      "cell_type": "markdown",
      "source": [
        "*   Plotting the Regression Line and to Visualizing the Model's Performance"
      ],
      "metadata": {
        "id": "fEa_A5qHFOPo"
      }
    },
    {
      "cell_type": "code",
      "source": [
        "plt.figure(figsize=(8, 6))\n",
        "plt.hist([y_test, y_test_pred], bins=20, color=['pink', 'skyblue'], label=['Actual', 'Predicted'])\n",
        "plt.xlabel('Price')\n",
        "plt.ylabel('Count')\n",
        "plt.title('Linear Regression')\n",
        "plt.legend()\n",
        "plt.show()"
      ],
      "metadata": {
        "colab": {
          "base_uri": "https://localhost:8080/",
          "height": 508
        },
        "id": "LK5H0UYZHmsB",
        "outputId": "d7afc271-fc4a-4c9d-924d-cd2681850e4c"
      },
      "execution_count": null,
      "outputs": [
        {
          "output_type": "display_data",
          "data": {
            "text/plain": [
              "<Figure size 800x600 with 1 Axes>"
            ],
            "image/png": "[encoded data removed]"
          },
          "metadata": {}
        }
      ]
    },
    {
      "cell_type": "markdown",
      "source": [
        "5. **Report**"
      ],
      "metadata": {
        "id": "MADeYCMTJLYa"
      }
    },
    {
      "cell_type": "markdown",
      "source": [
        "1. **Introduction** - The purpose of this exercise is to implement a simple linear regression model from scratch in Python to predict house prices based on three features: house size (in square feet), number of bedrooms, and the age of the house. The dataset contains historical house price information, and we aim to build a model that captures the linear relationship between these features and house prices."
      ],
      "metadata": {
        "id": "VIKbVq_QJbX4"
      }
    },
    {
      "cell_type": "markdown",
      "source": [
        "2. **Data Preprocessing** - Data preprocessing is an essential step in any machine learning pipeline as it ensures the data is ready for model consumption. The dataset for this exercise is first imported using Pandas, and the subsequent steps involve checking for missing values and normalizing the features to improve model performance.\n"
      ],
      "metadata": {
        "id": "ry604waDKJJ7"
      }
    },
    {
      "cell_type": "markdown",
      "source": [
        "2.1 **Loading Data**\n",
        "\n",
        "- We start by loading the dataset\n",
        "\n",
        "2.2 **Missing Value Check**\n",
        "\n",
        "- We check if any missing values exist in the dataset using\n",
        "\n",
        "2.3 **Normalizing Features**\n",
        "- We applied the StandardScaler to scale the features Normalization transforms the features into a standard form with a mean of 0 and a standard deviation of 1, which helps in improving the convergence of the model during training.\n"
      ],
      "metadata": {
        "id": "qUB_hqt0MXPB"
      }
    },
    {
      "cell_type": "markdown",
      "source": [
        "3. **Model Implementation** - We implement a simple linear regression model using the closed-form solution, which computes the optimal values for the coefficients without requiring iterative optimization."
      ],
      "metadata": {
        "id": "m4XFfH6BM92V"
      }
    },
    {
      "cell_type": "markdown",
      "source": [
        "3.1 **Linear Regression Function and Prediction Function**\n",
        "\n",
        "- This function computes the optimal weight (theta) values for the regression by solving the normal equation.\n",
        "- This function is used both during training to evaluate performance and during testing to generate predictions.\n",
        "\n"
      ],
      "metadata": {
        "id": "bb7Os6_dNW7Q"
      }
    },
    {
      "cell_type": "markdown",
      "source": [
        "4. **Model Training**\n",
        "\n",
        "4.1 **Splitting the Dataset**\n",
        "- This ensures that the model can be trained on the majority of the data while keeping a portion aside for unbiased testing.\n",
        "\n",
        "4.2 **Training the Model**\n",
        "\n",
        "4.3 **Calculating Training MSE**\n",
        "- The training MSE serves as a measure of how well the model fits the training data."
      ],
      "metadata": {
        "id": "3pLSwB5aNzrL"
      }
    },
    {
      "cell_type": "markdown",
      "source": [
        "5. **Model Evaluation**\n",
        "\n",
        "5.1 **Testing the Model**\n",
        "- The testing MSE provides insight into how well the model generalizes to unseen data.\n",
        "\n",
        "5.2 **Visualization**\n",
        "- The visualization allows us to observe the distribution of actual and predicted prices, providing a visual indication of model performance."
      ],
      "metadata": {
        "id": "W1HbD1dkOigD"
      }
    },
    {
      "cell_type": "markdown",
      "source": [
        "6. **Conclusion**\n",
        "- The linear regression model performed reasonably well, with a low training and testing MSE. The predictions were generally close to the actual house prices, as visualized by the overlapping histograms.\n",
        "\n",
        "-  **Challenges** - The model performed poorly without feature scaling, Another is while the closed-form solution is efficient for this small dataset, it may not scale well to larger datasets, it might be a possible problem soon.\n",
        "\n",
        "- In conclusion, this exercise demonstrated the successful implementation of linear regression from scratch and highlighted the importance of proper data preprocessing and model evaluation.\n",
        "\n"
      ],
      "metadata": {
        "id": "Y5OIXUesP_Ae"
      }
    }
  ]
}
